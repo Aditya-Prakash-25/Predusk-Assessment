{
  "nbformat": 4,
  "nbformat_minor": 0,
  "metadata": {
    "colab": {
      "provenance": []
    },
    "kernelspec": {
      "name": "python3",
      "display_name": "Python 3"
    },
    "language_info": {
      "name": "python"
    }
  },
  "cells": [
    {
      "cell_type": "markdown",
      "source": [
        "# Part 1 :Basic ML Classification"
      ],
      "metadata": {
        "id": "kVEsywuknJdw"
      }
    },
    {
      "cell_type": "markdown",
      "source": [
        "## Importing the basic libraries"
      ],
      "metadata": {
        "id": "BKrrDNw8n0gW"
      }
    },
    {
      "cell_type": "code",
      "source": [
        "import torch\n",
        "import torchvision\n",
        "\n",
        "import matplotlib.pyplot as plt\n",
        "import numpy as np\n",
        "import pandas as pd\n",
        "\n",
        "import sklearn\n",
        "from sklearn.datasets import load_iris\n",
        "from sklearn.model_selection import train_test_split\n",
        "from sklearn.preprocessing import StandardScaler\n",
        "\n",
        "import torch.nn as nn"
      ],
      "metadata": {
        "id": "PmRR9r4rn63W"
      },
      "execution_count": 25,
      "outputs": []
    },
    {
      "cell_type": "markdown",
      "source": [
        "## Loading the Iris dataset from skLearn"
      ],
      "metadata": {
        "id": "w2N7-csYpHYm"
      }
    },
    {
      "cell_type": "code",
      "source": [
        "iris = load_iris()\n",
        "iris_df = pd.DataFrame(data= np.c_[iris['data'], iris['target']],\n",
        "                     columns= iris['feature_names'] + ['target'])\n",
        "\n",
        "iris_df.head()"
      ],
      "metadata": {
        "colab": {
          "base_uri": "https://localhost:8080/",
          "height": 206
        },
        "id": "W2XGmXkUqJT3",
        "outputId": "cf9a4560-6585-41ae-bded-c29726777316"
      },
      "execution_count": 13,
      "outputs": [
        {
          "output_type": "execute_result",
          "data": {
            "text/plain": [
              "   sepal length (cm)  sepal width (cm)  petal length (cm)  petal width (cm)  \\\n",
              "0                5.1               3.5                1.4               0.2   \n",
              "1                4.9               3.0                1.4               0.2   \n",
              "2                4.7               3.2                1.3               0.2   \n",
              "3                4.6               3.1                1.5               0.2   \n",
              "4                5.0               3.6                1.4               0.2   \n",
              "\n",
              "   target  \n",
              "0     0.0  \n",
              "1     0.0  \n",
              "2     0.0  \n",
              "3     0.0  \n",
              "4     0.0  "
            ],
            "text/html": [
              "\n",
              "  <div id=\"df-690c35cf-1087-4731-94aa-53a3c1e957c9\" class=\"colab-df-container\">\n",
              "    <div>\n",
              "<style scoped>\n",
              "    .dataframe tbody tr th:only-of-type {\n",
              "        vertical-align: middle;\n",
              "    }\n",
              "\n",
              "    .dataframe tbody tr th {\n",
              "        vertical-align: top;\n",
              "    }\n",
              "\n",
              "    .dataframe thead th {\n",
              "        text-align: right;\n",
              "    }\n",
              "</style>\n",
              "<table border=\"1\" class=\"dataframe\">\n",
              "  <thead>\n",
              "    <tr style=\"text-align: right;\">\n",
              "      <th></th>\n",
              "      <th>sepal length (cm)</th>\n",
              "      <th>sepal width (cm)</th>\n",
              "      <th>petal length (cm)</th>\n",
              "      <th>petal width (cm)</th>\n",
              "      <th>target</th>\n",
              "    </tr>\n",
              "  </thead>\n",
              "  <tbody>\n",
              "    <tr>\n",
              "      <th>0</th>\n",
              "      <td>5.1</td>\n",
              "      <td>3.5</td>\n",
              "      <td>1.4</td>\n",
              "      <td>0.2</td>\n",
              "      <td>0.0</td>\n",
              "    </tr>\n",
              "    <tr>\n",
              "      <th>1</th>\n",
              "      <td>4.9</td>\n",
              "      <td>3.0</td>\n",
              "      <td>1.4</td>\n",
              "      <td>0.2</td>\n",
              "      <td>0.0</td>\n",
              "    </tr>\n",
              "    <tr>\n",
              "      <th>2</th>\n",
              "      <td>4.7</td>\n",
              "      <td>3.2</td>\n",
              "      <td>1.3</td>\n",
              "      <td>0.2</td>\n",
              "      <td>0.0</td>\n",
              "    </tr>\n",
              "    <tr>\n",
              "      <th>3</th>\n",
              "      <td>4.6</td>\n",
              "      <td>3.1</td>\n",
              "      <td>1.5</td>\n",
              "      <td>0.2</td>\n",
              "      <td>0.0</td>\n",
              "    </tr>\n",
              "    <tr>\n",
              "      <th>4</th>\n",
              "      <td>5.0</td>\n",
              "      <td>3.6</td>\n",
              "      <td>1.4</td>\n",
              "      <td>0.2</td>\n",
              "      <td>0.0</td>\n",
              "    </tr>\n",
              "  </tbody>\n",
              "</table>\n",
              "</div>\n",
              "    <div class=\"colab-df-buttons\">\n",
              "\n",
              "  <div class=\"colab-df-container\">\n",
              "    <button class=\"colab-df-convert\" onclick=\"convertToInteractive('df-690c35cf-1087-4731-94aa-53a3c1e957c9')\"\n",
              "            title=\"Convert this dataframe to an interactive table.\"\n",
              "            style=\"display:none;\">\n",
              "\n",
              "  <svg xmlns=\"http://www.w3.org/2000/svg\" height=\"24px\" viewBox=\"0 -960 960 960\">\n",
              "    <path d=\"M120-120v-720h720v720H120Zm60-500h600v-160H180v160Zm220 220h160v-160H400v160Zm0 220h160v-160H400v160ZM180-400h160v-160H180v160Zm440 0h160v-160H620v160ZM180-180h160v-160H180v160Zm440 0h160v-160H620v160Z\"/>\n",
              "  </svg>\n",
              "    </button>\n",
              "\n",
              "  <style>\n",
              "    .colab-df-container {\n",
              "      display:flex;\n",
              "      gap: 12px;\n",
              "    }\n",
              "\n",
              "    .colab-df-convert {\n",
              "      background-color: #E8F0FE;\n",
              "      border: none;\n",
              "      border-radius: 50%;\n",
              "      cursor: pointer;\n",
              "      display: none;\n",
              "      fill: #1967D2;\n",
              "      height: 32px;\n",
              "      padding: 0 0 0 0;\n",
              "      width: 32px;\n",
              "    }\n",
              "\n",
              "    .colab-df-convert:hover {\n",
              "      background-color: #E2EBFA;\n",
              "      box-shadow: 0px 1px 2px rgba(60, 64, 67, 0.3), 0px 1px 3px 1px rgba(60, 64, 67, 0.15);\n",
              "      fill: #174EA6;\n",
              "    }\n",
              "\n",
              "    .colab-df-buttons div {\n",
              "      margin-bottom: 4px;\n",
              "    }\n",
              "\n",
              "    [theme=dark] .colab-df-convert {\n",
              "      background-color: #3B4455;\n",
              "      fill: #D2E3FC;\n",
              "    }\n",
              "\n",
              "    [theme=dark] .colab-df-convert:hover {\n",
              "      background-color: #434B5C;\n",
              "      box-shadow: 0px 1px 3px 1px rgba(0, 0, 0, 0.15);\n",
              "      filter: drop-shadow(0px 1px 2px rgba(0, 0, 0, 0.3));\n",
              "      fill: #FFFFFF;\n",
              "    }\n",
              "  </style>\n",
              "\n",
              "    <script>\n",
              "      const buttonEl =\n",
              "        document.querySelector('#df-690c35cf-1087-4731-94aa-53a3c1e957c9 button.colab-df-convert');\n",
              "      buttonEl.style.display =\n",
              "        google.colab.kernel.accessAllowed ? 'block' : 'none';\n",
              "\n",
              "      async function convertToInteractive(key) {\n",
              "        const element = document.querySelector('#df-690c35cf-1087-4731-94aa-53a3c1e957c9');\n",
              "        const dataTable =\n",
              "          await google.colab.kernel.invokeFunction('convertToInteractive',\n",
              "                                                    [key], {});\n",
              "        if (!dataTable) return;\n",
              "\n",
              "        const docLinkHtml = 'Like what you see? Visit the ' +\n",
              "          '<a target=\"_blank\" href=https://colab.research.google.com/notebooks/data_table.ipynb>data table notebook</a>'\n",
              "          + ' to learn more about interactive tables.';\n",
              "        element.innerHTML = '';\n",
              "        dataTable['output_type'] = 'display_data';\n",
              "        await google.colab.output.renderOutput(dataTable, element);\n",
              "        const docLink = document.createElement('div');\n",
              "        docLink.innerHTML = docLinkHtml;\n",
              "        element.appendChild(docLink);\n",
              "      }\n",
              "    </script>\n",
              "  </div>\n",
              "\n",
              "\n",
              "    <div id=\"df-aa106d69-f463-42e7-b9ab-718686bff15a\">\n",
              "      <button class=\"colab-df-quickchart\" onclick=\"quickchart('df-aa106d69-f463-42e7-b9ab-718686bff15a')\"\n",
              "                title=\"Suggest charts\"\n",
              "                style=\"display:none;\">\n",
              "\n",
              "<svg xmlns=\"http://www.w3.org/2000/svg\" height=\"24px\"viewBox=\"0 0 24 24\"\n",
              "     width=\"24px\">\n",
              "    <g>\n",
              "        <path d=\"M19 3H5c-1.1 0-2 .9-2 2v14c0 1.1.9 2 2 2h14c1.1 0 2-.9 2-2V5c0-1.1-.9-2-2-2zM9 17H7v-7h2v7zm4 0h-2V7h2v10zm4 0h-2v-4h2v4z\"/>\n",
              "    </g>\n",
              "</svg>\n",
              "      </button>\n",
              "\n",
              "<style>\n",
              "  .colab-df-quickchart {\n",
              "      --bg-color: #E8F0FE;\n",
              "      --fill-color: #1967D2;\n",
              "      --hover-bg-color: #E2EBFA;\n",
              "      --hover-fill-color: #174EA6;\n",
              "      --disabled-fill-color: #AAA;\n",
              "      --disabled-bg-color: #DDD;\n",
              "  }\n",
              "\n",
              "  [theme=dark] .colab-df-quickchart {\n",
              "      --bg-color: #3B4455;\n",
              "      --fill-color: #D2E3FC;\n",
              "      --hover-bg-color: #434B5C;\n",
              "      --hover-fill-color: #FFFFFF;\n",
              "      --disabled-bg-color: #3B4455;\n",
              "      --disabled-fill-color: #666;\n",
              "  }\n",
              "\n",
              "  .colab-df-quickchart {\n",
              "    background-color: var(--bg-color);\n",
              "    border: none;\n",
              "    border-radius: 50%;\n",
              "    cursor: pointer;\n",
              "    display: none;\n",
              "    fill: var(--fill-color);\n",
              "    height: 32px;\n",
              "    padding: 0;\n",
              "    width: 32px;\n",
              "  }\n",
              "\n",
              "  .colab-df-quickchart:hover {\n",
              "    background-color: var(--hover-bg-color);\n",
              "    box-shadow: 0 1px 2px rgba(60, 64, 67, 0.3), 0 1px 3px 1px rgba(60, 64, 67, 0.15);\n",
              "    fill: var(--button-hover-fill-color);\n",
              "  }\n",
              "\n",
              "  .colab-df-quickchart-complete:disabled,\n",
              "  .colab-df-quickchart-complete:disabled:hover {\n",
              "    background-color: var(--disabled-bg-color);\n",
              "    fill: var(--disabled-fill-color);\n",
              "    box-shadow: none;\n",
              "  }\n",
              "\n",
              "  .colab-df-spinner {\n",
              "    border: 2px solid var(--fill-color);\n",
              "    border-color: transparent;\n",
              "    border-bottom-color: var(--fill-color);\n",
              "    animation:\n",
              "      spin 1s steps(1) infinite;\n",
              "  }\n",
              "\n",
              "  @keyframes spin {\n",
              "    0% {\n",
              "      border-color: transparent;\n",
              "      border-bottom-color: var(--fill-color);\n",
              "      border-left-color: var(--fill-color);\n",
              "    }\n",
              "    20% {\n",
              "      border-color: transparent;\n",
              "      border-left-color: var(--fill-color);\n",
              "      border-top-color: var(--fill-color);\n",
              "    }\n",
              "    30% {\n",
              "      border-color: transparent;\n",
              "      border-left-color: var(--fill-color);\n",
              "      border-top-color: var(--fill-color);\n",
              "      border-right-color: var(--fill-color);\n",
              "    }\n",
              "    40% {\n",
              "      border-color: transparent;\n",
              "      border-right-color: var(--fill-color);\n",
              "      border-top-color: var(--fill-color);\n",
              "    }\n",
              "    60% {\n",
              "      border-color: transparent;\n",
              "      border-right-color: var(--fill-color);\n",
              "    }\n",
              "    80% {\n",
              "      border-color: transparent;\n",
              "      border-right-color: var(--fill-color);\n",
              "      border-bottom-color: var(--fill-color);\n",
              "    }\n",
              "    90% {\n",
              "      border-color: transparent;\n",
              "      border-bottom-color: var(--fill-color);\n",
              "    }\n",
              "  }\n",
              "</style>\n",
              "\n",
              "      <script>\n",
              "        async function quickchart(key) {\n",
              "          const quickchartButtonEl =\n",
              "            document.querySelector('#' + key + ' button');\n",
              "          quickchartButtonEl.disabled = true;  // To prevent multiple clicks.\n",
              "          quickchartButtonEl.classList.add('colab-df-spinner');\n",
              "          try {\n",
              "            const charts = await google.colab.kernel.invokeFunction(\n",
              "                'suggestCharts', [key], {});\n",
              "          } catch (error) {\n",
              "            console.error('Error during call to suggestCharts:', error);\n",
              "          }\n",
              "          quickchartButtonEl.classList.remove('colab-df-spinner');\n",
              "          quickchartButtonEl.classList.add('colab-df-quickchart-complete');\n",
              "        }\n",
              "        (() => {\n",
              "          let quickchartButtonEl =\n",
              "            document.querySelector('#df-aa106d69-f463-42e7-b9ab-718686bff15a button');\n",
              "          quickchartButtonEl.style.display =\n",
              "            google.colab.kernel.accessAllowed ? 'block' : 'none';\n",
              "        })();\n",
              "      </script>\n",
              "    </div>\n",
              "\n",
              "    </div>\n",
              "  </div>\n"
            ],
            "application/vnd.google.colaboratory.intrinsic+json": {
              "type": "dataframe",
              "variable_name": "iris_df",
              "summary": "{\n  \"name\": \"iris_df\",\n  \"rows\": 150,\n  \"fields\": [\n    {\n      \"column\": \"sepal length (cm)\",\n      \"properties\": {\n        \"dtype\": \"number\",\n        \"std\": 0.8280661279778629,\n        \"min\": 4.3,\n        \"max\": 7.9,\n        \"num_unique_values\": 35,\n        \"samples\": [\n          6.2,\n          4.5,\n          5.6\n        ],\n        \"semantic_type\": \"\",\n        \"description\": \"\"\n      }\n    },\n    {\n      \"column\": \"sepal width (cm)\",\n      \"properties\": {\n        \"dtype\": \"number\",\n        \"std\": 0.435866284936698,\n        \"min\": 2.0,\n        \"max\": 4.4,\n        \"num_unique_values\": 23,\n        \"samples\": [\n          2.3,\n          4.0,\n          3.5\n        ],\n        \"semantic_type\": \"\",\n        \"description\": \"\"\n      }\n    },\n    {\n      \"column\": \"petal length (cm)\",\n      \"properties\": {\n        \"dtype\": \"number\",\n        \"std\": 1.7652982332594667,\n        \"min\": 1.0,\n        \"max\": 6.9,\n        \"num_unique_values\": 43,\n        \"samples\": [\n          6.7,\n          3.8,\n          3.7\n        ],\n        \"semantic_type\": \"\",\n        \"description\": \"\"\n      }\n    },\n    {\n      \"column\": \"petal width (cm)\",\n      \"properties\": {\n        \"dtype\": \"number\",\n        \"std\": 0.7622376689603465,\n        \"min\": 0.1,\n        \"max\": 2.5,\n        \"num_unique_values\": 22,\n        \"samples\": [\n          0.2,\n          1.2,\n          1.3\n        ],\n        \"semantic_type\": \"\",\n        \"description\": \"\"\n      }\n    },\n    {\n      \"column\": \"target\",\n      \"properties\": {\n        \"dtype\": \"number\",\n        \"std\": 0.8192319205190405,\n        \"min\": 0.0,\n        \"max\": 2.0,\n        \"num_unique_values\": 3,\n        \"samples\": [\n          0.0,\n          1.0,\n          2.0\n        ],\n        \"semantic_type\": \"\",\n        \"description\": \"\"\n      }\n    }\n  ]\n}"
            }
          },
          "metadata": {},
          "execution_count": 13
        }
      ]
    },
    {
      "cell_type": "code",
      "source": [
        "len(iris_df) , iris_df['target'].unique()"
      ],
      "metadata": {
        "colab": {
          "base_uri": "https://localhost:8080/"
        },
        "id": "4cMduZSAqlPc",
        "outputId": "7981e31d-c41d-4d64-ca32-72effc876a31"
      },
      "execution_count": 15,
      "outputs": [
        {
          "output_type": "execute_result",
          "data": {
            "text/plain": [
              "(150, array([0., 1., 2.]))"
            ]
          },
          "metadata": {},
          "execution_count": 15
        }
      ]
    },
    {
      "cell_type": "markdown",
      "source": [
        "The datasets contains 150 samples alongwith 3 unique classes"
      ],
      "metadata": {
        "id": "Etq5x9DLqqA-"
      }
    },
    {
      "cell_type": "markdown",
      "source": [
        "## Splitting the Dataset into Training and testing datasets"
      ],
      "metadata": {
        "id": "RMJG4_zFqxFp"
      }
    },
    {
      "cell_type": "code",
      "source": [
        "X_train , X_test , y_train , y_test = train_test_split(iris_df.drop(labels = \"target\" , axis = 1) , iris_df[\"target\"] , test_size = 0.2)"
      ],
      "metadata": {
        "id": "JywbxcsDq3hE"
      },
      "execution_count": 16,
      "outputs": []
    },
    {
      "cell_type": "code",
      "source": [
        "len(X_train) , len(X_test) , len(y_train) , len(y_test)"
      ],
      "metadata": {
        "colab": {
          "base_uri": "https://localhost:8080/"
        },
        "id": "51RV8FnKrQDx",
        "outputId": "a29e0684-a6bf-49db-91d6-4820a299a7db"
      },
      "execution_count": 17,
      "outputs": [
        {
          "output_type": "execute_result",
          "data": {
            "text/plain": [
              "(120, 30, 120, 30)"
            ]
          },
          "metadata": {},
          "execution_count": 17
        }
      ]
    },
    {
      "cell_type": "markdown",
      "source": [
        "Splitting the dataset into 80% traing and 20% testing.\n",
        "\n",
        "Next we will normalize the features."
      ],
      "metadata": {
        "id": "nRjnZjb5raYs"
      }
    },
    {
      "cell_type": "code",
      "source": [
        "# Creating a scaler to normalize the features\n",
        "scaler = StandardScaler()\n",
        "\n",
        "# Fitting the scaler on the training data and transforming both training and testing data\n",
        "X_train_scaled = scaler.fit_transform(X_train)\n",
        "X_test_scaled = scaler.transform(X_test)\n",
        "\n",
        "print(\"X_train_scaled (first 5 rows):\")\n",
        "print(X_train_scaled[:5])\n",
        "print(\"\\nX_test_scaled (first 5 rows):\")\n",
        "print(X_test_scaled[:5])\n"
      ],
      "metadata": {
        "colab": {
          "base_uri": "https://localhost:8080/"
        },
        "id": "iaZxHrNBryOg",
        "outputId": "f00294e4-5fa4-4b01-e44e-426dafb754c9"
      },
      "execution_count": 23,
      "outputs": [
        {
          "output_type": "stream",
          "name": "stdout",
          "text": [
            "X_train_scaled (first 5 rows):\n",
            "[[-0.20540144 -0.57945956  0.16888418  0.12362985]\n",
            " [-1.04704636  1.05391638 -1.44319204 -1.2250594 ]\n",
            " [ 1.35765341  0.35389812  0.51432908  0.25849877]\n",
            " [ 1.59812339 -0.11278072  1.14764474  0.52823662]\n",
            " [-1.04704636  0.35389812 -1.50076619 -1.35992832]]\n",
            "\n",
            "X_test_scaled (first 5 rows):\n",
            "[[ 0.87671346 -0.34612014  0.45675493  0.12362985]\n",
            " [ 0.99694845  0.1205587   1.03249644  1.60718802]\n",
            " [-1.04704636  1.05391638 -1.27046959 -0.82045263]\n",
            " [ 0.15530353  0.82057696  0.39918078  0.52823662]\n",
            " [-0.92681137  1.75393463 -1.32804374 -1.2250594 ]]\n"
          ]
        }
      ]
    },
    {
      "cell_type": "markdown",
      "source": [
        "### Creating a 2 layer Neural Network Architecture for building the classifier"
      ],
      "metadata": {
        "id": "8xvM2FSir6y6"
      }
    },
    {
      "cell_type": "code",
      "source": [
        "class iris_classifier(nn.Module) :\n",
        "    def __init__(self, input_size , hidden_size , num_classes) :\n",
        "        super().__init__()\n",
        "        self.fc1 = nn.Linear(in_features = input_size , out_features = hidden_size)\n",
        "        self.relu = nn.ReLU()\n",
        "        self.fc2 = nn.Linear(in_features = hidden_size , out_features = num_classes)\n",
        "\n",
        "\n",
        "    def forward(self , x) :\n",
        "        return self.fc2(self.relu(self.fc1(x)))"
      ],
      "metadata": {
        "id": "xfKj1VHvsQu0"
      },
      "execution_count": 26,
      "outputs": []
    },
    {
      "cell_type": "markdown",
      "source": [
        "Converting the data into tensors to feed into the model"
      ],
      "metadata": {
        "id": "mU48kAh9uXqR"
      }
    },
    {
      "cell_type": "code",
      "source": [
        "X_train_tensor = torch.tensor(X_train_scaled, dtype=torch.float32)\n",
        "X_test_tensor = torch.tensor(X_test_scaled, dtype=torch.float32)\n",
        "y_train_tensor = torch.tensor(y_train.values, dtype=torch.long)\n",
        "y_test_tensor = torch.tensor(y_test.values, dtype=torch.long)\n",
        "\n",
        "print(\"\\nX_train_tensor (first 5 rows):\")\n",
        "print(X_train_tensor[:5])\n",
        "print(\"\\nX_test_tensor (first 5 rows):\")\n",
        "print(X_test_tensor[:5])\n",
        "print(\"\\ny_train_tensor (first 5 elements):\")\n",
        "print(y_train_tensor[:5])\n",
        "print(\"\\ny_test_tensor (first 5 elements):\")\n",
        "print(y_test_tensor[:5])"
      ],
      "metadata": {
        "colab": {
          "base_uri": "https://localhost:8080/"
        },
        "id": "vK8mCNsUuOGl",
        "outputId": "67a0dd5b-059b-4f55-bea4-a9445f08906d"
      },
      "execution_count": 31,
      "outputs": [
        {
          "output_type": "stream",
          "name": "stdout",
          "text": [
            "\n",
            "X_train_tensor (first 5 rows):\n",
            "tensor([[-0.2054, -0.5795,  0.1689,  0.1236],\n",
            "        [-1.0470,  1.0539, -1.4432, -1.2251],\n",
            "        [ 1.3577,  0.3539,  0.5143,  0.2585],\n",
            "        [ 1.5981, -0.1128,  1.1476,  0.5282],\n",
            "        [-1.0470,  0.3539, -1.5008, -1.3599]])\n",
            "\n",
            "X_test_tensor (first 5 rows):\n",
            "tensor([[ 0.8767, -0.3461,  0.4568,  0.1236],\n",
            "        [ 0.9969,  0.1206,  1.0325,  1.6072],\n",
            "        [-1.0470,  1.0539, -1.2705, -0.8205],\n",
            "        [ 0.1553,  0.8206,  0.3992,  0.5282],\n",
            "        [-0.9268,  1.7539, -1.3280, -1.2251]])\n",
            "\n",
            "y_train_tensor (first 5 elements):\n",
            "tensor([1, 0, 1, 2, 0])\n",
            "\n",
            "y_test_tensor (first 5 elements):\n",
            "tensor([1, 2, 0, 1, 0])\n"
          ]
        }
      ]
    },
    {
      "cell_type": "code",
      "source": [
        "optimizer = torch.optim.SGD(model.parameters(), lr=0.01)\n",
        "loss_fn = nn.CrossEntropyLoss()"
      ],
      "metadata": {
        "id": "IKasnGFCtiDT"
      },
      "execution_count": 38,
      "outputs": []
    },
    {
      "cell_type": "markdown",
      "source": [
        "Building the training loop and testing loop"
      ],
      "metadata": {
        "id": "qNclzBudu58H"
      }
    },
    {
      "cell_type": "code",
      "source": [
        "def test_step(model: torch.nn.Module,\n",
        "              X_test: torch.Tensor,\n",
        "              y_test: torch.Tensor,\n",
        "              loss_fn: torch.nn.Module):\n",
        "    model.eval()\n",
        "\n",
        "    with torch.no_grad():\n",
        "        # Forward pass\n",
        "        y_pred = model(X_test)\n",
        "        loss = loss_fn(y_pred, y_test)\n",
        "\n",
        "        # Accuracy\n",
        "        y_pred_classes = torch.argmax(y_pred, dim=1)\n",
        "        correct = (y_pred_classes == y_test).sum().item()\n",
        "        accuracy = correct / len(y_test)\n",
        "\n",
        "    return loss.item(), accuracy\n"
      ],
      "metadata": {
        "id": "1T1X-155tt1U"
      },
      "execution_count": 45,
      "outputs": []
    },
    {
      "cell_type": "code",
      "source": [
        "def test_step(model: torch.nn.Module,\n",
        "              X_test: torch.Tensor,\n",
        "              y_test: torch.Tensor,\n",
        "              loss_fn: torch.nn.Module):\n",
        "    \"\"\"Performs a single evaluation step and returns loss and accuracy.\"\"\"\n",
        "    model.eval()\n",
        "\n",
        "    with torch.no_grad():\n",
        "        # Forward pass\n",
        "        y_pred = model(X_test)\n",
        "\n",
        "        # Compute loss\n",
        "        loss = loss_fn(y_pred, y_test)\n",
        "\n",
        "        # Calculate accuracy\n",
        "        y_pred_classes = torch.argmax(y_pred, dim=1)\n",
        "        correct = (y_pred_classes == y_test).sum().item()\n",
        "        total = y_test.size(0)\n",
        "        accuracy = correct / total\n",
        "\n",
        "    return loss.item(), accuracy\n"
      ],
      "metadata": {
        "id": "UlOpghuDwLl9"
      },
      "execution_count": 41,
      "outputs": []
    },
    {
      "cell_type": "code",
      "source": [
        "import matplotlib.pyplot as plt\n",
        "\n",
        "def train_model(model: torch.nn.Module,\n",
        "                X_train: torch.Tensor,\n",
        "                y_train: torch.Tensor,\n",
        "                X_test: torch.Tensor,\n",
        "                y_test: torch.Tensor,\n",
        "                loss_fn: torch.nn.Module,\n",
        "                optimizer: torch.optim.Optimizer,\n",
        "                epochs: int = 50):\n",
        "\n",
        "    train_accuracies = []\n",
        "    test_accuracies = []\n",
        "\n",
        "    for epoch in range(epochs):\n",
        "        train_loss, train_acc = train_step(model, X_train, y_train, loss_fn, optimizer)\n",
        "        test_loss, test_acc = test_step(model, X_test, y_test, loss_fn)\n",
        "\n",
        "        train_accuracies.append(train_acc)\n",
        "        test_accuracies.append(test_acc)\n",
        "\n",
        "        print(f\"Epoch {epoch+1:02d}/{epochs} | \"\n",
        "              f\"Train Loss: {train_loss:.4f}, Acc: {train_acc*100:.2f}% | \"\n",
        "              f\"Test Loss: {test_loss:.4f}, Acc: {test_acc*100:.2f}%\")\n",
        "\n",
        "    return train_accuracies , test_accuracies"
      ],
      "metadata": {
        "id": "5BGHf_8gu5D6"
      },
      "execution_count": 84,
      "outputs": []
    },
    {
      "cell_type": "code",
      "source": [
        "model = iris_classifier(input_size = 4 ,\n",
        "                        hidden_size = 16 ,\n",
        "                        num_classes = 3)\n",
        "model"
      ],
      "metadata": {
        "colab": {
          "base_uri": "https://localhost:8080/"
        },
        "id": "NDFdbf9atdxC",
        "outputId": "8295e1a9-18bb-4a99-a67b-c000d3ca0a65"
      },
      "execution_count": 85,
      "outputs": [
        {
          "output_type": "execute_result",
          "data": {
            "text/plain": [
              "iris_classifier(\n",
              "  (fc1): Linear(in_features=4, out_features=16, bias=True)\n",
              "  (relu): ReLU()\n",
              "  (fc2): Linear(in_features=16, out_features=3, bias=True)\n",
              ")"
            ]
          },
          "metadata": {},
          "execution_count": 85
        }
      ]
    },
    {
      "cell_type": "code",
      "source": [
        "train_accuracies , test_accuracies = train_model(model , X_train_tensor , y_train_tensor , X_test_tensor , y_test_tensor , loss_fn = loss_fn , optimizer = optimizer , epochs = 50)"
      ],
      "metadata": {
        "colab": {
          "base_uri": "https://localhost:8080/"
        },
        "id": "xDLMH3uNvqVN",
        "outputId": "61f01672-454f-4a52-b261-823e8cd3a0d6"
      },
      "execution_count": 87,
      "outputs": [
        {
          "output_type": "stream",
          "name": "stdout",
          "text": [
            "Epoch 01/50 | Train Loss: 1.0835, Acc: 31.67% | Test Loss: 1.0862, Acc: 33.33%\n",
            "Epoch 02/50 | Train Loss: 1.0835, Acc: 31.67% | Test Loss: 1.0862, Acc: 33.33%\n",
            "Epoch 03/50 | Train Loss: 1.0835, Acc: 31.67% | Test Loss: 1.0862, Acc: 33.33%\n",
            "Epoch 04/50 | Train Loss: 1.0835, Acc: 31.67% | Test Loss: 1.0862, Acc: 33.33%\n",
            "Epoch 05/50 | Train Loss: 1.0835, Acc: 31.67% | Test Loss: 1.0862, Acc: 33.33%\n",
            "Epoch 06/50 | Train Loss: 1.0835, Acc: 31.67% | Test Loss: 1.0862, Acc: 33.33%\n",
            "Epoch 07/50 | Train Loss: 1.0835, Acc: 31.67% | Test Loss: 1.0862, Acc: 33.33%\n",
            "Epoch 08/50 | Train Loss: 1.0835, Acc: 31.67% | Test Loss: 1.0862, Acc: 33.33%\n",
            "Epoch 09/50 | Train Loss: 1.0835, Acc: 31.67% | Test Loss: 1.0862, Acc: 33.33%\n",
            "Epoch 10/50 | Train Loss: 1.0835, Acc: 31.67% | Test Loss: 1.0862, Acc: 33.33%\n",
            "Epoch 11/50 | Train Loss: 1.0835, Acc: 31.67% | Test Loss: 1.0862, Acc: 33.33%\n",
            "Epoch 12/50 | Train Loss: 1.0835, Acc: 31.67% | Test Loss: 1.0862, Acc: 33.33%\n",
            "Epoch 13/50 | Train Loss: 1.0835, Acc: 31.67% | Test Loss: 1.0862, Acc: 33.33%\n",
            "Epoch 14/50 | Train Loss: 1.0835, Acc: 31.67% | Test Loss: 1.0862, Acc: 33.33%\n",
            "Epoch 15/50 | Train Loss: 1.0835, Acc: 31.67% | Test Loss: 1.0862, Acc: 33.33%\n",
            "Epoch 16/50 | Train Loss: 1.0835, Acc: 31.67% | Test Loss: 1.0862, Acc: 33.33%\n",
            "Epoch 17/50 | Train Loss: 1.0835, Acc: 31.67% | Test Loss: 1.0862, Acc: 33.33%\n",
            "Epoch 18/50 | Train Loss: 1.0835, Acc: 31.67% | Test Loss: 1.0862, Acc: 33.33%\n",
            "Epoch 19/50 | Train Loss: 1.0835, Acc: 31.67% | Test Loss: 1.0862, Acc: 33.33%\n",
            "Epoch 20/50 | Train Loss: 1.0835, Acc: 31.67% | Test Loss: 1.0862, Acc: 33.33%\n",
            "Epoch 21/50 | Train Loss: 1.0835, Acc: 31.67% | Test Loss: 1.0862, Acc: 33.33%\n",
            "Epoch 22/50 | Train Loss: 1.0835, Acc: 31.67% | Test Loss: 1.0862, Acc: 33.33%\n",
            "Epoch 23/50 | Train Loss: 1.0835, Acc: 31.67% | Test Loss: 1.0862, Acc: 33.33%\n",
            "Epoch 24/50 | Train Loss: 1.0835, Acc: 31.67% | Test Loss: 1.0862, Acc: 33.33%\n",
            "Epoch 25/50 | Train Loss: 1.0835, Acc: 31.67% | Test Loss: 1.0862, Acc: 33.33%\n",
            "Epoch 26/50 | Train Loss: 1.0835, Acc: 31.67% | Test Loss: 1.0862, Acc: 33.33%\n",
            "Epoch 27/50 | Train Loss: 1.0835, Acc: 31.67% | Test Loss: 1.0862, Acc: 33.33%\n",
            "Epoch 28/50 | Train Loss: 1.0835, Acc: 31.67% | Test Loss: 1.0862, Acc: 33.33%\n",
            "Epoch 29/50 | Train Loss: 1.0835, Acc: 31.67% | Test Loss: 1.0862, Acc: 33.33%\n",
            "Epoch 30/50 | Train Loss: 1.0835, Acc: 31.67% | Test Loss: 1.0862, Acc: 33.33%\n",
            "Epoch 31/50 | Train Loss: 1.0835, Acc: 31.67% | Test Loss: 1.0862, Acc: 33.33%\n",
            "Epoch 32/50 | Train Loss: 1.0835, Acc: 31.67% | Test Loss: 1.0862, Acc: 33.33%\n",
            "Epoch 33/50 | Train Loss: 1.0835, Acc: 31.67% | Test Loss: 1.0862, Acc: 33.33%\n",
            "Epoch 34/50 | Train Loss: 1.0835, Acc: 31.67% | Test Loss: 1.0862, Acc: 33.33%\n",
            "Epoch 35/50 | Train Loss: 1.0835, Acc: 31.67% | Test Loss: 1.0862, Acc: 33.33%\n",
            "Epoch 36/50 | Train Loss: 1.0835, Acc: 31.67% | Test Loss: 1.0862, Acc: 33.33%\n",
            "Epoch 37/50 | Train Loss: 1.0835, Acc: 31.67% | Test Loss: 1.0862, Acc: 33.33%\n",
            "Epoch 38/50 | Train Loss: 1.0835, Acc: 31.67% | Test Loss: 1.0862, Acc: 33.33%\n",
            "Epoch 39/50 | Train Loss: 1.0835, Acc: 31.67% | Test Loss: 1.0862, Acc: 33.33%\n",
            "Epoch 40/50 | Train Loss: 1.0835, Acc: 31.67% | Test Loss: 1.0862, Acc: 33.33%\n",
            "Epoch 41/50 | Train Loss: 1.0835, Acc: 31.67% | Test Loss: 1.0862, Acc: 33.33%\n",
            "Epoch 42/50 | Train Loss: 1.0835, Acc: 31.67% | Test Loss: 1.0862, Acc: 33.33%\n",
            "Epoch 43/50 | Train Loss: 1.0835, Acc: 31.67% | Test Loss: 1.0862, Acc: 33.33%\n",
            "Epoch 44/50 | Train Loss: 1.0835, Acc: 31.67% | Test Loss: 1.0862, Acc: 33.33%\n",
            "Epoch 45/50 | Train Loss: 1.0835, Acc: 31.67% | Test Loss: 1.0862, Acc: 33.33%\n",
            "Epoch 46/50 | Train Loss: 1.0835, Acc: 31.67% | Test Loss: 1.0862, Acc: 33.33%\n",
            "Epoch 47/50 | Train Loss: 1.0835, Acc: 31.67% | Test Loss: 1.0862, Acc: 33.33%\n",
            "Epoch 48/50 | Train Loss: 1.0835, Acc: 31.67% | Test Loss: 1.0862, Acc: 33.33%\n",
            "Epoch 49/50 | Train Loss: 1.0835, Acc: 31.67% | Test Loss: 1.0862, Acc: 33.33%\n",
            "Epoch 50/50 | Train Loss: 1.0835, Acc: 31.67% | Test Loss: 1.0862, Acc: 33.33%\n"
          ]
        }
      ]
    },
    {
      "cell_type": "code",
      "source": [
        "epochs = 50\n",
        "\n",
        " # Plot accuracy vs epoch\n",
        "plt.figure(figsize=(8, 5))\n",
        "plt.plot(range(1, epochs + 1), [acc * 100 for acc in train_accuracies], label=\"Train Accuracy\")\n",
        "plt.plot(range(1, epochs + 1), [acc * 100 for acc in test_accuracies], label=\"Test Accuracy\")\n",
        "plt.xlabel(\"Epoch\")\n",
        "plt.ylabel(\"Accuracy (%)\")\n",
        "plt.title(\"Accuracy vs Epoch\")\n",
        "plt.legend()\n",
        "plt.grid(True)\n",
        "plt.tight_layout()\n",
        "plt.show()"
      ],
      "metadata": {
        "colab": {
          "base_uri": "https://localhost:8080/",
          "height": 507
        },
        "id": "Iu-qJCABv7z1",
        "outputId": "7f0a1bfb-0e8b-4e4a-9f37-961be2b434c7"
      },
      "execution_count": 89,
      "outputs": [
        {
          "output_type": "display_data",
          "data": {
            "text/plain": [
              "<Figure size 800x500 with 1 Axes>"
            ],
            "image/png": "[encoded data removed]"
          },
          "metadata": {}
        }
      ]
    },
    {
      "cell_type": "code",
      "source": [],
      "metadata": {
        "id": "3dC9rAEHymqE"
      },
      "execution_count": null,
      "outputs": []
    }
  ]
}